{
 "cells": [
  {
   "cell_type": "code",
   "execution_count": 1,
   "id": "1db2582b",
   "metadata": {},
   "outputs": [],
   "source": [
    "# Importing required libraries\n",
    "\n",
    "import pandas as pd\n",
    "import numpy as np"
   ]
  },
  {
   "cell_type": "code",
   "execution_count": 2,
   "id": "a56d8adc",
   "metadata": {},
   "outputs": [],
   "source": [
    "#Load the given datasets\n",
    "\n",
    "d1=pd.read_csv(\"C:\\\\Users\\\\tusha\\\\OneDrive\\\\Documents\\\\Datasets\\\\insurance_data.csv\")\n",
    "d2=pd.read_csv(\"C:\\\\Users\\\\tusha\\\\OneDrive\\\\Documents\\\\Datasets\\\\employee_data.csv\")\n",
    "d3=pd.read_csv(\"C:\\\\Users\\\\tusha\\\\OneDrive\\\\Documents\\\\Datasets\\\\vendor_data.csv\")"
   ]
  },
  {
   "cell_type": "code",
   "execution_count": 3,
   "id": "65ad59a4",
   "metadata": {},
   "outputs": [
    {
     "data": {
      "text/html": [
       "<div>\n",
       "<style scoped>\n",
       "    .dataframe tbody tr th:only-of-type {\n",
       "        vertical-align: middle;\n",
       "    }\n",
       "\n",
       "    .dataframe tbody tr th {\n",
       "        vertical-align: top;\n",
       "    }\n",
       "\n",
       "    .dataframe thead th {\n",
       "        text-align: right;\n",
       "    }\n",
       "</style>\n",
       "<table border=\"1\" class=\"dataframe\">\n",
       "  <thead>\n",
       "    <tr style=\"text-align: right;\">\n",
       "      <th></th>\n",
       "      <th>TXN_DATE_TIME</th>\n",
       "      <th>TRANSACTION_ID</th>\n",
       "      <th>CUSTOMER_ID</th>\n",
       "      <th>POLICY_NUMBER</th>\n",
       "      <th>POLICY_EFF_DT</th>\n",
       "      <th>LOSS_DT</th>\n",
       "      <th>REPORT_DT</th>\n",
       "      <th>INSURANCE_TYPE</th>\n",
       "      <th>PREMIUM_AMOUNT</th>\n",
       "      <th>CLAIM_AMOUNT</th>\n",
       "      <th>...</th>\n",
       "      <th>STATE_y</th>\n",
       "      <th>POSTAL_CODE_y</th>\n",
       "      <th>EMP_ROUTING_NUMBER</th>\n",
       "      <th>EMP_ACCT_NUMBER</th>\n",
       "      <th>VENDOR_NAME</th>\n",
       "      <th>ADDRESS_LINE1</th>\n",
       "      <th>ADDRESS_LINE2</th>\n",
       "      <th>CITY</th>\n",
       "      <th>STATE</th>\n",
       "      <th>POSTAL_CODE</th>\n",
       "    </tr>\n",
       "  </thead>\n",
       "  <tbody>\n",
       "    <tr>\n",
       "      <th>0</th>\n",
       "      <td>2020-06-01 00:00:00</td>\n",
       "      <td>TXN00000001</td>\n",
       "      <td>A00003822</td>\n",
       "      <td>PLC00008468</td>\n",
       "      <td>2015-06-23</td>\n",
       "      <td>2020-05-16</td>\n",
       "      <td>2020-05-21</td>\n",
       "      <td>Health</td>\n",
       "      <td>157.13</td>\n",
       "      <td>9000</td>\n",
       "      <td>...</td>\n",
       "      <td>TN</td>\n",
       "      <td>37217</td>\n",
       "      <td>35441155</td>\n",
       "      <td>LRZO53254369804934</td>\n",
       "      <td>Ramsey Inc</td>\n",
       "      <td>3114 West 20th Court</td>\n",
       "      <td>NaN</td>\n",
       "      <td>Panama City</td>\n",
       "      <td>FL</td>\n",
       "      <td>32405.0</td>\n",
       "    </tr>\n",
       "    <tr>\n",
       "      <th>1</th>\n",
       "      <td>2020-06-01 00:00:00</td>\n",
       "      <td>TXN00000002</td>\n",
       "      <td>A00008149</td>\n",
       "      <td>PLC00009594</td>\n",
       "      <td>2018-04-21</td>\n",
       "      <td>2020-05-13</td>\n",
       "      <td>2020-05-18</td>\n",
       "      <td>Property</td>\n",
       "      <td>141.71</td>\n",
       "      <td>26000</td>\n",
       "      <td>...</td>\n",
       "      <td>AZ</td>\n",
       "      <td>85301</td>\n",
       "      <td>44055451</td>\n",
       "      <td>XBYG14382904542874</td>\n",
       "      <td>Morales, Campbell and Washington</td>\n",
       "      <td>42 West Louise Street</td>\n",
       "      <td>B</td>\n",
       "      <td>Fayetteville</td>\n",
       "      <td>AR</td>\n",
       "      <td>72701.0</td>\n",
       "    </tr>\n",
       "    <tr>\n",
       "      <th>2</th>\n",
       "      <td>2020-06-01 00:00:00</td>\n",
       "      <td>TXN00000003</td>\n",
       "      <td>A00003172</td>\n",
       "      <td>PLC00007969</td>\n",
       "      <td>2019-10-03</td>\n",
       "      <td>2020-05-21</td>\n",
       "      <td>2020-05-26</td>\n",
       "      <td>Property</td>\n",
       "      <td>157.24</td>\n",
       "      <td>13000</td>\n",
       "      <td>...</td>\n",
       "      <td>AL</td>\n",
       "      <td>36105</td>\n",
       "      <td>55770246</td>\n",
       "      <td>WRXH14597428306333</td>\n",
       "      <td>Johnson Ltd</td>\n",
       "      <td>2619 North Quality Lane</td>\n",
       "      <td>#315</td>\n",
       "      <td>Fayetteville</td>\n",
       "      <td>AR</td>\n",
       "      <td>72703.0</td>\n",
       "    </tr>\n",
       "    <tr>\n",
       "      <th>3</th>\n",
       "      <td>2020-06-01 00:00:00</td>\n",
       "      <td>TXN00000004</td>\n",
       "      <td>A00007572</td>\n",
       "      <td>PLC00009292</td>\n",
       "      <td>2016-11-29</td>\n",
       "      <td>2020-05-14</td>\n",
       "      <td>2020-05-19</td>\n",
       "      <td>Health</td>\n",
       "      <td>172.87</td>\n",
       "      <td>16000</td>\n",
       "      <td>...</td>\n",
       "      <td>OK</td>\n",
       "      <td>73071</td>\n",
       "      <td>87652976</td>\n",
       "      <td>YEPN16077902472499</td>\n",
       "      <td>Blackwell-Foster</td>\n",
       "      <td>3609 Meadow Drive</td>\n",
       "      <td>NaN</td>\n",
       "      <td>Nashville</td>\n",
       "      <td>TN</td>\n",
       "      <td>37215.0</td>\n",
       "    </tr>\n",
       "    <tr>\n",
       "      <th>4</th>\n",
       "      <td>2020-06-01 00:00:00</td>\n",
       "      <td>TXN00000005</td>\n",
       "      <td>A00008173</td>\n",
       "      <td>PLC00000204</td>\n",
       "      <td>2011-12-26</td>\n",
       "      <td>2020-05-17</td>\n",
       "      <td>2020-05-22</td>\n",
       "      <td>Travel</td>\n",
       "      <td>88.53</td>\n",
       "      <td>3000</td>\n",
       "      <td>...</td>\n",
       "      <td>MD</td>\n",
       "      <td>21061</td>\n",
       "      <td>76119019</td>\n",
       "      <td>HZBK86544578578547</td>\n",
       "      <td>Evans-Scott</td>\n",
       "      <td>4001 19th Place Northeast</td>\n",
       "      <td>NaN</td>\n",
       "      <td>Washington</td>\n",
       "      <td>DC</td>\n",
       "      <td>20018.0</td>\n",
       "    </tr>\n",
       "  </tbody>\n",
       "</table>\n",
       "<p>5 rows × 53 columns</p>\n",
       "</div>"
      ],
      "text/plain": [
       "         TXN_DATE_TIME TRANSACTION_ID CUSTOMER_ID POLICY_NUMBER POLICY_EFF_DT  \\\n",
       "0  2020-06-01 00:00:00    TXN00000001   A00003822   PLC00008468    2015-06-23   \n",
       "1  2020-06-01 00:00:00    TXN00000002   A00008149   PLC00009594    2018-04-21   \n",
       "2  2020-06-01 00:00:00    TXN00000003   A00003172   PLC00007969    2019-10-03   \n",
       "3  2020-06-01 00:00:00    TXN00000004   A00007572   PLC00009292    2016-11-29   \n",
       "4  2020-06-01 00:00:00    TXN00000005   A00008173   PLC00000204    2011-12-26   \n",
       "\n",
       "      LOSS_DT   REPORT_DT INSURANCE_TYPE  PREMIUM_AMOUNT  CLAIM_AMOUNT  ...  \\\n",
       "0  2020-05-16  2020-05-21         Health          157.13          9000  ...   \n",
       "1  2020-05-13  2020-05-18       Property          141.71         26000  ...   \n",
       "2  2020-05-21  2020-05-26       Property          157.24         13000  ...   \n",
       "3  2020-05-14  2020-05-19         Health          172.87         16000  ...   \n",
       "4  2020-05-17  2020-05-22         Travel           88.53          3000  ...   \n",
       "\n",
       "  STATE_y POSTAL_CODE_y EMP_ROUTING_NUMBER     EMP_ACCT_NUMBER  \\\n",
       "0      TN         37217           35441155  LRZO53254369804934   \n",
       "1      AZ         85301           44055451  XBYG14382904542874   \n",
       "2      AL         36105           55770246  WRXH14597428306333   \n",
       "3      OK         73071           87652976  YEPN16077902472499   \n",
       "4      MD         21061           76119019  HZBK86544578578547   \n",
       "\n",
       "                        VENDOR_NAME              ADDRESS_LINE1 ADDRESS_LINE2  \\\n",
       "0                        Ramsey Inc       3114 West 20th Court           NaN   \n",
       "1  Morales, Campbell and Washington      42 West Louise Street             B   \n",
       "2                       Johnson Ltd    2619 North Quality Lane          #315   \n",
       "3                  Blackwell-Foster          3609 Meadow Drive           NaN   \n",
       "4                       Evans-Scott  4001 19th Place Northeast           NaN   \n",
       "\n",
       "           CITY  STATE  POSTAL_CODE  \n",
       "0   Panama City     FL      32405.0  \n",
       "1  Fayetteville     AR      72701.0  \n",
       "2  Fayetteville     AR      72703.0  \n",
       "3     Nashville     TN      37215.0  \n",
       "4    Washington     DC      20018.0  \n",
       "\n",
       "[5 rows x 53 columns]"
      ]
     },
     "execution_count": 3,
     "metadata": {},
     "output_type": "execute_result"
    }
   ],
   "source": [
    "# Task 1 :  Merge the 3 dataset and create 1 view of data.\n",
    "\n",
    "dataframe_1=pd.merge(d1,d2, on='AGENT_ID', how='left')\n",
    "dataframe=pd.merge(dataframe_1,d3,on='VENDOR_ID',how='left')\n",
    "\n",
    "# view of the overall data \n",
    "\n",
    "dataframe.head()"
   ]
  },
  {
   "cell_type": "code",
   "execution_count": 4,
   "id": "6958df14",
   "metadata": {},
   "outputs": [
    {
     "data": {
      "text/plain": [
       "Property    1692\n",
       "Mobile      1692\n",
       "Health      1690\n",
       "Name: INSURANCE_TYPE, dtype: int64"
      ]
     },
     "execution_count": 4,
     "metadata": {},
     "output_type": "execute_result"
    }
   ],
   "source": [
    "#Task 2 : Top 3 insurance types\n",
    "\n",
    "S1=dataframe.INSURANCE_TYPE.value_counts()\n",
    "Top_3=S1[:3]\n",
    "Top_3           #Top 3 insurance types"
   ]
  },
  {
   "cell_type": "code",
   "execution_count": 5,
   "id": "9e1694e0",
   "metadata": {},
   "outputs": [
    {
     "data": {
      "text/plain": [
       "Index(['TXN_DATE_TIME', 'TRANSACTION_ID', 'CUSTOMER_ID', 'POLICY_NUMBER',\n",
       "       'POLICY_EFF_DT', 'LOSS_DT', 'REPORT_DT', 'INSURANCE_TYPE',\n",
       "       'PREMIUM_AMOUNT', 'CLAIM_AMOUNT', 'CUSTOMER_NAME', 'ADDRESS_LINE1_x',\n",
       "       'ADDRESS_LINE2_x', 'CITY_x', 'STATE_x', 'POSTAL_CODE_x', 'SSN',\n",
       "       'MARITAL_STATUS', 'AGE', 'TENURE', 'EMPLOYMENT_STATUS',\n",
       "       'NO_OF_FAMILY_MEMBERS', 'RISK_SEGMENTATION', 'HOUSE_TYPE',\n",
       "       'SOCIAL_CLASS', 'ROUTING_NUMBER', 'ACCT_NUMBER',\n",
       "       'CUSTOMER_EDUCATION_LEVEL', 'CLAIM_STATUS', 'INCIDENT_SEVERITY',\n",
       "       'AUTHORITY_CONTACTED', 'ANY_INJURY', 'POLICE_REPORT_AVAILABLE',\n",
       "       'INCIDENT_STATE', 'INCIDENT_CITY', 'INCIDENT_HOUR_OF_THE_DAY',\n",
       "       'AGENT_ID', 'VENDOR_ID', 'AGENT_NAME', 'DATE_OF_JOINING',\n",
       "       'ADDRESS_LINE1_y', 'ADDRESS_LINE2_y', 'CITY_y', 'STATE_y',\n",
       "       'POSTAL_CODE_y', 'EMP_ROUTING_NUMBER', 'EMP_ACCT_NUMBER', 'VENDOR_NAME',\n",
       "       'ADDRESS_LINE1', 'ADDRESS_LINE2', 'CITY', 'STATE', 'POSTAL_CODE'],\n",
       "      dtype='object')"
      ]
     },
     "execution_count": 5,
     "metadata": {},
     "output_type": "execute_result"
    }
   ],
   "source": [
    "#Task 3 :  Top 5 States where we are getting most insurance claims for customer belonging to HIGH(H) risk segme\n",
    "\n",
    "dataframe.columns"
   ]
  },
  {
   "cell_type": "code",
   "execution_count": 6,
   "id": "fecd155c",
   "metadata": {},
   "outputs": [
    {
     "data": {
      "text/plain": [
       "CA    112\n",
       "AR     85\n",
       "CO     78\n",
       "CT     77\n",
       "KY     75\n",
       "Name: STATE, dtype: int64"
      ]
     },
     "execution_count": 6,
     "metadata": {},
     "output_type": "execute_result"
    }
   ],
   "source": [
    "S2=dataframe[dataframe['RISK_SEGMENTATION']=='H'].STATE.value_counts()\n",
    "Top_5=S2[:5]\n",
    "Top_5                    #Top 5 states "
   ]
  },
  {
   "cell_type": "code",
   "execution_count": 7,
   "id": "19fc6fe3",
   "metadata": {},
   "outputs": [
    {
     "data": {
      "text/plain": [
       "0.0044"
      ]
     },
     "execution_count": 7,
     "metadata": {},
     "output_type": "execute_result"
    }
   ],
   "source": [
    "#Task 4 : Business wants to create a new variable “COLOCATION” which will have following values IF Customer State == Incident State == Agent Address State THEN 1 ELSE 0 Find the mean of this new column.\n",
    "\n",
    "dataframe['COLOCATION'] = (dataframe['STATE_x']==dataframe['INCIDENT_STATE']) & (dataframe['INCIDENT_STATE']==dataframe['STATE_y']) \n",
    "dataframe['COLOCATION'].replace({False:0,True:1}, inplace=True)\n",
    "dataframe.COLOCATION.mean()                # Mean of the COLOCATION column is 0.0044"
   ]
  },
  {
   "cell_type": "code",
   "execution_count": 8,
   "id": "2d92cdf1",
   "metadata": {},
   "outputs": [
    {
     "data": {
      "text/html": [
       "<div>\n",
       "<style scoped>\n",
       "    .dataframe tbody tr th:only-of-type {\n",
       "        vertical-align: middle;\n",
       "    }\n",
       "\n",
       "    .dataframe tbody tr th {\n",
       "        vertical-align: top;\n",
       "    }\n",
       "\n",
       "    .dataframe thead th {\n",
       "        text-align: right;\n",
       "    }\n",
       "</style>\n",
       "<table border=\"1\" class=\"dataframe\">\n",
       "  <thead>\n",
       "    <tr style=\"text-align: right;\">\n",
       "      <th></th>\n",
       "      <th>TXN_DATE_TIME</th>\n",
       "      <th>TRANSACTION_ID</th>\n",
       "      <th>CUSTOMER_ID</th>\n",
       "      <th>POLICY_NUMBER</th>\n",
       "      <th>POLICY_EFF_DT</th>\n",
       "      <th>LOSS_DT</th>\n",
       "      <th>REPORT_DT</th>\n",
       "      <th>INSURANCE_TYPE</th>\n",
       "      <th>PREMIUM_AMOUNT</th>\n",
       "      <th>CLAIM_AMOUNT</th>\n",
       "      <th>...</th>\n",
       "      <th>POSTAL_CODE_y</th>\n",
       "      <th>EMP_ROUTING_NUMBER</th>\n",
       "      <th>EMP_ACCT_NUMBER</th>\n",
       "      <th>VENDOR_NAME</th>\n",
       "      <th>ADDRESS_LINE1</th>\n",
       "      <th>ADDRESS_LINE2</th>\n",
       "      <th>CITY</th>\n",
       "      <th>STATE</th>\n",
       "      <th>POSTAL_CODE</th>\n",
       "      <th>COLOCATION</th>\n",
       "    </tr>\n",
       "  </thead>\n",
       "  <tbody>\n",
       "  </tbody>\n",
       "</table>\n",
       "<p>0 rows × 54 columns</p>\n",
       "</div>"
      ],
      "text/plain": [
       "Empty DataFrame\n",
       "Columns: [TXN_DATE_TIME, TRANSACTION_ID, CUSTOMER_ID, POLICY_NUMBER, POLICY_EFF_DT, LOSS_DT, REPORT_DT, INSURANCE_TYPE, PREMIUM_AMOUNT, CLAIM_AMOUNT, CUSTOMER_NAME, ADDRESS_LINE1_x, ADDRESS_LINE2_x, CITY_x, STATE_x, POSTAL_CODE_x, SSN, MARITAL_STATUS, AGE, TENURE, EMPLOYMENT_STATUS, NO_OF_FAMILY_MEMBERS, RISK_SEGMENTATION, HOUSE_TYPE, SOCIAL_CLASS, ROUTING_NUMBER, ACCT_NUMBER, CUSTOMER_EDUCATION_LEVEL, CLAIM_STATUS, INCIDENT_SEVERITY, AUTHORITY_CONTACTED, ANY_INJURY, POLICE_REPORT_AVAILABLE, INCIDENT_STATE, INCIDENT_CITY, INCIDENT_HOUR_OF_THE_DAY, AGENT_ID, VENDOR_ID, AGENT_NAME, DATE_OF_JOINING, ADDRESS_LINE1_y, ADDRESS_LINE2_y, CITY_y, STATE_y, POSTAL_CODE_y, EMP_ROUTING_NUMBER, EMP_ACCT_NUMBER, VENDOR_NAME, ADDRESS_LINE1, ADDRESS_LINE2, CITY, STATE, POSTAL_CODE, COLOCATION]\n",
       "Index: []\n",
       "\n",
       "[0 rows x 54 columns]"
      ]
     },
     "execution_count": 8,
     "metadata": {},
     "output_type": "execute_result"
    }
   ],
   "source": [
    "#Task 5 : Data entry error was detected in the data and you are required to correct it. If for any claim transaction “AUTHORITY_CONTACTED” is NOT “Police” and POLICE_AVAILABLE == 1 Then Update “AUTHORITY_CONTACTED” to Police\n",
    "\n",
    "df1=dataframe[dataframe['AUTHORITY_CONTACTED']!='Police']\n",
    "df2=df1[df1['POLICE_REPORT_AVAILABLE']==1].index\n",
    "dataframe.loc[df2,'AUTHORITY_CONTACTED']='Police'\n",
    "\n",
    "# For checking\n",
    "dataframe[(dataframe['POLICE_REPORT_AVAILABLE']==1)&(dataframe['AUTHORITY_CONTACTED']!='Police')]\n",
    "\n",
    "#So we said that our code is correct."
   ]
  },
  {
   "cell_type": "code",
   "execution_count": 9,
   "id": "f8634b82",
   "metadata": {},
   "outputs": [
    {
     "data": {
      "text/plain": [
       "Timestamp('2021-06-30 00:00:00')"
      ]
     },
     "execution_count": 9,
     "metadata": {},
     "output_type": "execute_result"
    }
   ],
   "source": [
    "# Task 6 :  Business wants to check the Claim Amount for deviation for each transaction, they would like you to calculate as follow\n",
    "#   CLAIM_DEVIATION = AVG_CLAIM_AMOUNT_FOR_LAST_30DAYS (same insurance type)\n",
    "#                     / CURRENT_CLAIM_AMOUNT\n",
    "#   If the value < 0.5 THEN CLAIM_DEVIATION = 1 ELSE 0\n",
    "#   If there is less than 30 days of transaction history THEN -1 Note: LAST_30DAYS does not include current day\n",
    " \n",
    "    \n",
    "    \n",
    "dataframe['TXN_DATE_TIME'] = pd.to_datetime(dataframe['TXN_DATE_TIME'])    \n",
    "current_d=dataframe.TXN_DATE_TIME.max()   \n",
    "current_d\n",
    "\n"
   ]
  },
  {
   "cell_type": "code",
   "execution_count": 10,
   "id": "300ff5ad",
   "metadata": {},
   "outputs": [
    {
     "data": {
      "text/plain": [
       "INSURANCE_TYPE\n",
       "Health      10904.411765\n",
       "Life        52242.857143\n",
       "Mobile        378.358209\n",
       "Motor        5573.770492\n",
       "Property    24627.906977\n",
       "Travel       2800.000000\n",
       "Name: CLAIM_AMOUNT, dtype: float64"
      ]
     },
     "execution_count": 10,
     "metadata": {},
     "output_type": "execute_result"
    }
   ],
   "source": [
    "claims_avg= dataframe.loc[(dataframe['TXN_DATE_TIME'] > '2021-05-30') & (dataframe['TXN_DATE_TIME'] < '2021-06-30')].groupby('INSURANCE_TYPE').mean()['CLAIM_AMOUNT']\n",
    "claims_avg\n"
   ]
  },
  {
   "cell_type": "code",
   "execution_count": 11,
   "id": "e0d85305",
   "metadata": {},
   "outputs": [],
   "source": [
    "# Defining the function for claim deviation\n",
    "\n",
    "def claim_deviation(s):\n",
    "    if (current_d - s['TXN_DATE_TIME'])<pd.Timedelta(days=30):\n",
    "        return -1\n",
    "    claim_dev = claims_avg[s['INSURANCE_TYPE']] / s['CLAIM_AMOUNT']\n",
    "    if claim_dev < 0.5:\n",
    "        return 1\n",
    "    else:\n",
    "        return 0"
   ]
  },
  {
   "cell_type": "code",
   "execution_count": 12,
   "id": "7b67dcb6",
   "metadata": {},
   "outputs": [],
   "source": [
    "dataframe['CLAIM_DEVIATION'] = dataframe.apply(claim_deviation,axis=1)"
   ]
  },
  {
   "cell_type": "code",
   "execution_count": 13,
   "id": "79903d4d",
   "metadata": {},
   "outputs": [
    {
     "data": {
      "text/plain": [
       " 0    9216\n",
       "-1     784\n",
       "Name: CLAIM_DEVIATION, dtype: int64"
      ]
     },
     "execution_count": 13,
     "metadata": {},
     "output_type": "execute_result"
    }
   ],
   "source": [
    "dataframe.CLAIM_DEVIATION.value_counts()"
   ]
  },
  {
   "cell_type": "code",
   "execution_count": 14,
   "id": "128f6d3b",
   "metadata": {},
   "outputs": [],
   "source": [
    "#    Here 9216 claims with deviation less than 0.5 and\n",
    "#    784 claims with transaction history of less than 30 days."
   ]
  },
  {
   "cell_type": "code",
   "execution_count": 15,
   "id": "b856ded4",
   "metadata": {},
   "outputs": [
    {
     "data": {
      "text/html": [
       "<div>\n",
       "<style scoped>\n",
       "    .dataframe tbody tr th:only-of-type {\n",
       "        vertical-align: middle;\n",
       "    }\n",
       "\n",
       "    .dataframe tbody tr th {\n",
       "        vertical-align: top;\n",
       "    }\n",
       "\n",
       "    .dataframe thead th {\n",
       "        text-align: right;\n",
       "    }\n",
       "</style>\n",
       "<table border=\"1\" class=\"dataframe\">\n",
       "  <thead>\n",
       "    <tr style=\"text-align: right;\">\n",
       "      <th></th>\n",
       "      <th>CLAIM_AMOUNT</th>\n",
       "      <th>INSURANCE_TYPE</th>\n",
       "    </tr>\n",
       "    <tr>\n",
       "      <th>AGENT_ID</th>\n",
       "      <th></th>\n",
       "      <th></th>\n",
       "    </tr>\n",
       "  </thead>\n",
       "  <tbody>\n",
       "    <tr>\n",
       "      <th>AGENT00807</th>\n",
       "      <td>528800</td>\n",
       "      <td>6</td>\n",
       "    </tr>\n",
       "    <tr>\n",
       "      <th>AGENT00679</th>\n",
       "      <td>489000</td>\n",
       "      <td>4</td>\n",
       "    </tr>\n",
       "    <tr>\n",
       "      <th>AGENT00771</th>\n",
       "      <td>422100</td>\n",
       "      <td>5</td>\n",
       "    </tr>\n",
       "    <tr>\n",
       "      <th>AGENT00125</th>\n",
       "      <td>400400</td>\n",
       "      <td>4</td>\n",
       "    </tr>\n",
       "    <tr>\n",
       "      <th>AGENT00789</th>\n",
       "      <td>392900</td>\n",
       "      <td>4</td>\n",
       "    </tr>\n",
       "    <tr>\n",
       "      <th>...</th>\n",
       "      <td>...</td>\n",
       "      <td>...</td>\n",
       "    </tr>\n",
       "    <tr>\n",
       "      <th>AGENT00910</th>\n",
       "      <td>15500</td>\n",
       "      <td>3</td>\n",
       "    </tr>\n",
       "    <tr>\n",
       "      <th>AGENT00689</th>\n",
       "      <td>13700</td>\n",
       "      <td>3</td>\n",
       "    </tr>\n",
       "    <tr>\n",
       "      <th>AGENT00732</th>\n",
       "      <td>11300</td>\n",
       "      <td>3</td>\n",
       "    </tr>\n",
       "    <tr>\n",
       "      <th>AGENT00706</th>\n",
       "      <td>10800</td>\n",
       "      <td>3</td>\n",
       "    </tr>\n",
       "    <tr>\n",
       "      <th>AGENT00604</th>\n",
       "      <td>5500</td>\n",
       "      <td>3</td>\n",
       "    </tr>\n",
       "  </tbody>\n",
       "</table>\n",
       "<p>1164 rows × 2 columns</p>\n",
       "</div>"
      ],
      "text/plain": [
       "            CLAIM_AMOUNT  INSURANCE_TYPE\n",
       "AGENT_ID                                \n",
       "AGENT00807        528800               6\n",
       "AGENT00679        489000               4\n",
       "AGENT00771        422100               5\n",
       "AGENT00125        400400               4\n",
       "AGENT00789        392900               4\n",
       "...                  ...             ...\n",
       "AGENT00910         15500               3\n",
       "AGENT00689         13700               3\n",
       "AGENT00732         11300               3\n",
       "AGENT00706         10800               3\n",
       "AGENT00604          5500               3\n",
       "\n",
       "[1164 rows x 2 columns]"
      ]
     },
     "execution_count": 15,
     "metadata": {},
     "output_type": "execute_result"
    }
   ],
   "source": [
    "#Task 7 : Find All Agents who have worked on more than 2 types of Insurance Claims. Sort them by Total Claim Amount Approved under them in descending order\n",
    "\n",
    "# Agent with more than two types\n",
    "typecount = dataframe.groupby('AGENT_ID')['INSURANCE_TYPE'].nunique() \n",
    "agent= typecount> 2\n",
    "agents_more_2_types = agent[agent].index\n",
    "Top_agents = dataframe.groupby(['AGENT_ID']).sum().loc[agents_more_2_types][['CLAIM_AMOUNT']].sort_values('CLAIM_AMOUNT',ascending=False).join(typecount)\n",
    "Top_agents"
   ]
  },
  {
   "cell_type": "code",
   "execution_count": 16,
   "id": "42dd0dde",
   "metadata": {},
   "outputs": [
    {
     "data": {
      "text/plain": [
       "INSURANCE_TYPE\n",
       "Health      252455.73\n",
       "Life        125621.22\n",
       "Mobile       15191.42\n",
       "Motor       165391.98\n",
       "Property    202285.83\n",
       "Travel      124139.77\n",
       "Name: PREMIUM_AMOUNT, dtype: float64"
      ]
     },
     "execution_count": 16,
     "metadata": {},
     "output_type": "execute_result"
    }
   ],
   "source": [
    "#Task 8 : Mobile & Travel Insurance premium are discounted by 10%\n",
    "#         Health and Property Insurance premium are increased by 7%\n",
    "#         Life and Motor Insurance premium are marginally increased by 2%\n",
    "#         What will be overall change in % of the Premium Amount Collected for all these Customer\n",
    "\n",
    "premium_by_types = dataframe.groupby('INSURANCE_TYPE').sum()['PREMIUM_AMOUNT']\n",
    "premium_by_types \n"
   ]
  },
  {
   "cell_type": "code",
   "execution_count": 17,
   "id": "740122a9",
   "metadata": {},
   "outputs": [],
   "source": [
    "# Mobile and Travel premium are discounted by 10%\n",
    "premium_by_types[['Travel','Mobile']]*=0.9\n",
    "# Health and Property premium are increased by 7%\n",
    "premium_by_types[['Health','Property']]*=1.07\n",
    "# life and Motor premium are marginally increased by 2%\n",
    "premium_by_types[['Life','Motor']]*=1.02"
   ]
  },
  {
   "cell_type": "code",
   "execution_count": 18,
   "id": "572e7ad5",
   "metadata": {},
   "outputs": [
    {
     "data": {
      "text/plain": [
       "908805.0042000001"
      ]
     },
     "execution_count": 18,
     "metadata": {},
     "output_type": "execute_result"
    }
   ],
   "source": [
    "# Total premium after discount and increment\n",
    "Total_premium=sum(premium_by_types.values)\n",
    "Total_premium"
   ]
  },
  {
   "cell_type": "code",
   "execution_count": 19,
   "id": "dec35d23",
   "metadata": {},
   "outputs": [
    {
     "data": {
      "text/plain": [
       "2.6798588543858517"
      ]
     },
     "execution_count": 19,
     "metadata": {},
     "output_type": "execute_result"
    }
   ],
   "source": [
    "# Overall change in % percent\n",
    "(Total_premium-dataframe['PREMIUM_AMOUNT'].sum())*100/dataframe['PREMIUM_AMOUNT'].sum()"
   ]
  },
  {
   "cell_type": "code",
   "execution_count": 20,
   "id": "97c18150",
   "metadata": {},
   "outputs": [],
   "source": [
    "# Overall change in premium is 2.68%"
   ]
  },
  {
   "cell_type": "code",
   "execution_count": 21,
   "id": "321b5a57",
   "metadata": {},
   "outputs": [
    {
     "data": {
      "text/plain": [
       "0.0299"
      ]
     },
     "execution_count": 21,
     "metadata": {},
     "output_type": "execute_result"
    }
   ],
   "source": [
    "#Task 9 : Business wants to give discount to customer who are loyal and under stress due to Covid19. They have laid down an eligibility Criteria as follow\n",
    "#        IF CUSTOMER_TENURE > 60 AND EMPLOYMENT_STATUS = “N”\n",
    "#                 AND NO_OF_FAMILY_MEMBERS >=4 THEN 1 ELSE 0\n",
    "#        Create a new column “ELIGIBLE_FOR_DISCOUNT” and find it mean.\n",
    "\n",
    "\n",
    "dataframe['ELIGIBLE_CUSTOMERS']=(dataframe['TENURE']>60)&(dataframe['EMPLOYMENT_STATUS']=='N')&(dataframe['NO_OF_FAMILY_MEMBERS']>=4)\n",
    "dataframe['ELIGIBLE_CUSTOMERS'].replace({False:0,True:1}, inplace=True)\n",
    "dataframe.ELIGIBLE_CUSTOMERS.mean()   # Mean\n"
   ]
  },
  {
   "cell_type": "code",
   "execution_count": 22,
   "id": "e2b0823f",
   "metadata": {},
   "outputs": [],
   "source": [
    "#Task 10 : Business wants to check Claim Velocity which is defined as follow\n",
    "#      CLAIM_VELOCITY = NO_OF_CLAIMS_IN_LAST30DAYS (for the current insurance type)\n",
    "#                   / NO_OF_CLAIMS_IN_LAST3DAYS (for the current insurance type)"
   ]
  },
  {
   "cell_type": "code",
   "execution_count": 23,
   "id": "13d337a3",
   "metadata": {},
   "outputs": [],
   "source": [
    "#last 30 days\n",
    "last_30_day=dataframe.loc[(dataframe['TXN_DATE_TIME'] > '2021-05-30') & (dataframe['TXN_DATE_TIME'] < '2021-06-30')] \n",
    "#last 3 days\n",
    "last_3_day = dataframe.loc[(dataframe['TXN_DATE_TIME'] > current_d-pd.Timedelta(days=4)) & (dataframe['TXN_DATE_TIME'] < current_d)]\n"
   ]
  },
  {
   "cell_type": "code",
   "execution_count": 24,
   "id": "b4cbcdc2",
   "metadata": {},
   "outputs": [],
   "source": [
    "All_claims_in_Last_30D = pd.DataFrame(last_30_day.groupby('INSURANCE_TYPE').size() ,columns=['CLAIMS_IN_LAST30D'])\n",
    "All_claims_in_Last_3D = pd.DataFrame(last_3_day.groupby('INSURANCE_TYPE').size(),columns=['CLAIMS_IN_LAST3D'])\n"
   ]
  },
  {
   "cell_type": "code",
   "execution_count": 25,
   "id": "e0c791ed",
   "metadata": {},
   "outputs": [],
   "source": [
    "total_claims_are=All_claims_in_Last_30D.join(All_claims_in_Last_3D)\n",
    "\n",
    "# claim velocity \n",
    "total_claims_are['CLAIM_VELOCITY'] = total_claims_are['CLAIMS_IN_LAST30D']/total_claims_are['CLAIMS_IN_LAST3D']\n",
    "\n"
   ]
  },
  {
   "cell_type": "code",
   "execution_count": 26,
   "id": "06c30143",
   "metadata": {},
   "outputs": [
    {
     "data": {
      "text/html": [
       "<div>\n",
       "<style scoped>\n",
       "    .dataframe tbody tr th:only-of-type {\n",
       "        vertical-align: middle;\n",
       "    }\n",
       "\n",
       "    .dataframe tbody tr th {\n",
       "        vertical-align: top;\n",
       "    }\n",
       "\n",
       "    .dataframe thead th {\n",
       "        text-align: right;\n",
       "    }\n",
       "</style>\n",
       "<table border=\"1\" class=\"dataframe\">\n",
       "  <thead>\n",
       "    <tr style=\"text-align: right;\">\n",
       "      <th></th>\n",
       "      <th>CLAIMS_IN_LAST30D</th>\n",
       "      <th>CLAIMS_IN_LAST3D</th>\n",
       "      <th>CLAIM_VELOCITY</th>\n",
       "    </tr>\n",
       "    <tr>\n",
       "      <th>INSURANCE_TYPE</th>\n",
       "      <th></th>\n",
       "      <th></th>\n",
       "      <th></th>\n",
       "    </tr>\n",
       "  </thead>\n",
       "  <tbody>\n",
       "    <tr>\n",
       "      <th>Health</th>\n",
       "      <td>136</td>\n",
       "      <td>14</td>\n",
       "      <td>9.714286</td>\n",
       "    </tr>\n",
       "    <tr>\n",
       "      <th>Life</th>\n",
       "      <td>140</td>\n",
       "      <td>14</td>\n",
       "      <td>10.000000</td>\n",
       "    </tr>\n",
       "    <tr>\n",
       "      <th>Mobile</th>\n",
       "      <td>134</td>\n",
       "      <td>10</td>\n",
       "      <td>13.400000</td>\n",
       "    </tr>\n",
       "    <tr>\n",
       "      <th>Motor</th>\n",
       "      <td>122</td>\n",
       "      <td>13</td>\n",
       "      <td>9.384615</td>\n",
       "    </tr>\n",
       "    <tr>\n",
       "      <th>Property</th>\n",
       "      <td>129</td>\n",
       "      <td>13</td>\n",
       "      <td>9.923077</td>\n",
       "    </tr>\n",
       "    <tr>\n",
       "      <th>Travel</th>\n",
       "      <td>125</td>\n",
       "      <td>14</td>\n",
       "      <td>8.928571</td>\n",
       "    </tr>\n",
       "  </tbody>\n",
       "</table>\n",
       "</div>"
      ],
      "text/plain": [
       "                CLAIMS_IN_LAST30D  CLAIMS_IN_LAST3D  CLAIM_VELOCITY\n",
       "INSURANCE_TYPE                                                     \n",
       "Health                        136                14        9.714286\n",
       "Life                          140                14       10.000000\n",
       "Mobile                        134                10       13.400000\n",
       "Motor                         122                13        9.384615\n",
       "Property                      129                13        9.923077\n",
       "Travel                        125                14        8.928571"
      ]
     },
     "execution_count": 26,
     "metadata": {},
     "output_type": "execute_result"
    }
   ],
   "source": [
    "total_claims_are"
   ]
  },
  {
   "cell_type": "code",
   "execution_count": 27,
   "id": "ce9f1789",
   "metadata": {},
   "outputs": [
    {
     "data": {
      "text/html": [
       "<div>\n",
       "<style scoped>\n",
       "    .dataframe tbody tr th:only-of-type {\n",
       "        vertical-align: middle;\n",
       "    }\n",
       "\n",
       "    .dataframe tbody tr th {\n",
       "        vertical-align: top;\n",
       "    }\n",
       "\n",
       "    .dataframe thead th {\n",
       "        text-align: right;\n",
       "    }\n",
       "</style>\n",
       "<table border=\"1\" class=\"dataframe\">\n",
       "  <thead>\n",
       "    <tr style=\"text-align: right;\">\n",
       "      <th></th>\n",
       "      <th>CLAIM_AMOUNT</th>\n",
       "    </tr>\n",
       "    <tr>\n",
       "      <th>AGENT_ID</th>\n",
       "      <th></th>\n",
       "    </tr>\n",
       "  </thead>\n",
       "  <tbody>\n",
       "    <tr>\n",
       "      <th>AGENT00006</th>\n",
       "      <td>22400</td>\n",
       "    </tr>\n",
       "    <tr>\n",
       "      <th>AGENT00014</th>\n",
       "      <td>7400</td>\n",
       "    </tr>\n",
       "    <tr>\n",
       "      <th>AGENT00016</th>\n",
       "      <td>27000</td>\n",
       "    </tr>\n",
       "    <tr>\n",
       "      <th>AGENT00085</th>\n",
       "      <td>25700</td>\n",
       "    </tr>\n",
       "    <tr>\n",
       "      <th>AGENT00088</th>\n",
       "      <td>27700</td>\n",
       "    </tr>\n",
       "    <tr>\n",
       "      <th>AGENT00091</th>\n",
       "      <td>30000</td>\n",
       "    </tr>\n",
       "    <tr>\n",
       "      <th>AGENT00098</th>\n",
       "      <td>28200</td>\n",
       "    </tr>\n",
       "    <tr>\n",
       "      <th>AGENT00134</th>\n",
       "      <td>22000</td>\n",
       "    </tr>\n",
       "    <tr>\n",
       "      <th>AGENT00149</th>\n",
       "      <td>28900</td>\n",
       "    </tr>\n",
       "    <tr>\n",
       "      <th>AGENT00156</th>\n",
       "      <td>13200</td>\n",
       "    </tr>\n",
       "    <tr>\n",
       "      <th>AGENT00172</th>\n",
       "      <td>22200</td>\n",
       "    </tr>\n",
       "    <tr>\n",
       "      <th>AGENT00185</th>\n",
       "      <td>16100</td>\n",
       "    </tr>\n",
       "    <tr>\n",
       "      <th>AGENT00186</th>\n",
       "      <td>27700</td>\n",
       "    </tr>\n",
       "    <tr>\n",
       "      <th>AGENT00188</th>\n",
       "      <td>28400</td>\n",
       "    </tr>\n",
       "    <tr>\n",
       "      <th>AGENT00197</th>\n",
       "      <td>18500</td>\n",
       "    </tr>\n",
       "    <tr>\n",
       "      <th>AGENT00252</th>\n",
       "      <td>20000</td>\n",
       "    </tr>\n",
       "    <tr>\n",
       "      <th>AGENT00263</th>\n",
       "      <td>11500</td>\n",
       "    </tr>\n",
       "    <tr>\n",
       "      <th>AGENT00275</th>\n",
       "      <td>16200</td>\n",
       "    </tr>\n",
       "    <tr>\n",
       "      <th>AGENT00279</th>\n",
       "      <td>28000</td>\n",
       "    </tr>\n",
       "    <tr>\n",
       "      <th>AGENT00300</th>\n",
       "      <td>12600</td>\n",
       "    </tr>\n",
       "    <tr>\n",
       "      <th>AGENT00310</th>\n",
       "      <td>28800</td>\n",
       "    </tr>\n",
       "    <tr>\n",
       "      <th>AGENT00316</th>\n",
       "      <td>22200</td>\n",
       "    </tr>\n",
       "    <tr>\n",
       "      <th>AGENT00351</th>\n",
       "      <td>21700</td>\n",
       "    </tr>\n",
       "    <tr>\n",
       "      <th>AGENT00425</th>\n",
       "      <td>17800</td>\n",
       "    </tr>\n",
       "    <tr>\n",
       "      <th>AGENT00442</th>\n",
       "      <td>30300</td>\n",
       "    </tr>\n",
       "    <tr>\n",
       "      <th>AGENT00536</th>\n",
       "      <td>20000</td>\n",
       "    </tr>\n",
       "    <tr>\n",
       "      <th>AGENT00562</th>\n",
       "      <td>21100</td>\n",
       "    </tr>\n",
       "    <tr>\n",
       "      <th>AGENT00571</th>\n",
       "      <td>24200</td>\n",
       "    </tr>\n",
       "    <tr>\n",
       "      <th>AGENT00585</th>\n",
       "      <td>16600</td>\n",
       "    </tr>\n",
       "    <tr>\n",
       "      <th>AGENT00590</th>\n",
       "      <td>22200</td>\n",
       "    </tr>\n",
       "    <tr>\n",
       "      <th>AGENT00604</th>\n",
       "      <td>5500</td>\n",
       "    </tr>\n",
       "    <tr>\n",
       "      <th>AGENT00621</th>\n",
       "      <td>5300</td>\n",
       "    </tr>\n",
       "    <tr>\n",
       "      <th>AGENT00628</th>\n",
       "      <td>6100</td>\n",
       "    </tr>\n",
       "    <tr>\n",
       "      <th>AGENT00672</th>\n",
       "      <td>21300</td>\n",
       "    </tr>\n",
       "    <tr>\n",
       "      <th>AGENT00689</th>\n",
       "      <td>13700</td>\n",
       "    </tr>\n",
       "    <tr>\n",
       "      <th>AGENT00706</th>\n",
       "      <td>10800</td>\n",
       "    </tr>\n",
       "    <tr>\n",
       "      <th>AGENT00721</th>\n",
       "      <td>9000</td>\n",
       "    </tr>\n",
       "    <tr>\n",
       "      <th>AGENT00732</th>\n",
       "      <td>11300</td>\n",
       "    </tr>\n",
       "    <tr>\n",
       "      <th>AGENT00773</th>\n",
       "      <td>15000</td>\n",
       "    </tr>\n",
       "    <tr>\n",
       "      <th>AGENT00780</th>\n",
       "      <td>11300</td>\n",
       "    </tr>\n",
       "    <tr>\n",
       "      <th>AGENT00790</th>\n",
       "      <td>6000</td>\n",
       "    </tr>\n",
       "    <tr>\n",
       "      <th>AGENT00804</th>\n",
       "      <td>20000</td>\n",
       "    </tr>\n",
       "    <tr>\n",
       "      <th>AGENT00805</th>\n",
       "      <td>22600</td>\n",
       "    </tr>\n",
       "    <tr>\n",
       "      <th>AGENT00830</th>\n",
       "      <td>23500</td>\n",
       "    </tr>\n",
       "    <tr>\n",
       "      <th>AGENT00841</th>\n",
       "      <td>17800</td>\n",
       "    </tr>\n",
       "    <tr>\n",
       "      <th>AGENT00856</th>\n",
       "      <td>24200</td>\n",
       "    </tr>\n",
       "    <tr>\n",
       "      <th>AGENT00894</th>\n",
       "      <td>27600</td>\n",
       "    </tr>\n",
       "    <tr>\n",
       "      <th>AGENT00910</th>\n",
       "      <td>15500</td>\n",
       "    </tr>\n",
       "    <tr>\n",
       "      <th>AGENT00969</th>\n",
       "      <td>28300</td>\n",
       "    </tr>\n",
       "    <tr>\n",
       "      <th>AGENT00985</th>\n",
       "      <td>30000</td>\n",
       "    </tr>\n",
       "    <tr>\n",
       "      <th>AGENT01021</th>\n",
       "      <td>24300</td>\n",
       "    </tr>\n",
       "    <tr>\n",
       "      <th>AGENT01037</th>\n",
       "      <td>5600</td>\n",
       "    </tr>\n",
       "    <tr>\n",
       "      <th>AGENT01052</th>\n",
       "      <td>28000</td>\n",
       "    </tr>\n",
       "    <tr>\n",
       "      <th>AGENT01077</th>\n",
       "      <td>4200</td>\n",
       "    </tr>\n",
       "    <tr>\n",
       "      <th>AGENT01107</th>\n",
       "      <td>24700</td>\n",
       "    </tr>\n",
       "    <tr>\n",
       "      <th>AGENT01128</th>\n",
       "      <td>28000</td>\n",
       "    </tr>\n",
       "    <tr>\n",
       "      <th>AGENT01131</th>\n",
       "      <td>27500</td>\n",
       "    </tr>\n",
       "    <tr>\n",
       "      <th>AGENT01151</th>\n",
       "      <td>28000</td>\n",
       "    </tr>\n",
       "    <tr>\n",
       "      <th>AGENT01154</th>\n",
       "      <td>800</td>\n",
       "    </tr>\n",
       "    <tr>\n",
       "      <th>AGENT01179</th>\n",
       "      <td>27300</td>\n",
       "    </tr>\n",
       "  </tbody>\n",
       "</table>\n",
       "</div>"
      ],
      "text/plain": [
       "            CLAIM_AMOUNT\n",
       "AGENT_ID                \n",
       "AGENT00006         22400\n",
       "AGENT00014          7400\n",
       "AGENT00016         27000\n",
       "AGENT00085         25700\n",
       "AGENT00088         27700\n",
       "AGENT00091         30000\n",
       "AGENT00098         28200\n",
       "AGENT00134         22000\n",
       "AGENT00149         28900\n",
       "AGENT00156         13200\n",
       "AGENT00172         22200\n",
       "AGENT00185         16100\n",
       "AGENT00186         27700\n",
       "AGENT00188         28400\n",
       "AGENT00197         18500\n",
       "AGENT00252         20000\n",
       "AGENT00263         11500\n",
       "AGENT00275         16200\n",
       "AGENT00279         28000\n",
       "AGENT00300         12600\n",
       "AGENT00310         28800\n",
       "AGENT00316         22200\n",
       "AGENT00351         21700\n",
       "AGENT00425         17800\n",
       "AGENT00442         30300\n",
       "AGENT00536         20000\n",
       "AGENT00562         21100\n",
       "AGENT00571         24200\n",
       "AGENT00585         16600\n",
       "AGENT00590         22200\n",
       "AGENT00604          5500\n",
       "AGENT00621          5300\n",
       "AGENT00628          6100\n",
       "AGENT00672         21300\n",
       "AGENT00689         13700\n",
       "AGENT00706         10800\n",
       "AGENT00721          9000\n",
       "AGENT00732         11300\n",
       "AGENT00773         15000\n",
       "AGENT00780         11300\n",
       "AGENT00790          6000\n",
       "AGENT00804         20000\n",
       "AGENT00805         22600\n",
       "AGENT00830         23500\n",
       "AGENT00841         17800\n",
       "AGENT00856         24200\n",
       "AGENT00894         27600\n",
       "AGENT00910         15500\n",
       "AGENT00969         28300\n",
       "AGENT00985         30000\n",
       "AGENT01021         24300\n",
       "AGENT01037          5600\n",
       "AGENT01052         28000\n",
       "AGENT01077          4200\n",
       "AGENT01107         24700\n",
       "AGENT01128         28000\n",
       "AGENT01131         27500\n",
       "AGENT01151         28000\n",
       "AGENT01154           800\n",
       "AGENT01179         27300"
      ]
     },
     "execution_count": 27,
     "metadata": {},
     "output_type": "execute_result"
    }
   ],
   "source": [
    "#Task 11 : Find all low performing agents i.e. employees who are in the bottom 5 percentile based on Claims worked by them.\n",
    "\n",
    "Agent_data = dataframe.groupby('AGENT_ID').sum()\n",
    "Agents_Performing_poor = Agent_data[Agent_data['CLAIM_AMOUNT']<=dataframe.groupby('AGENT_ID').sum().quantile(0.05)['CLAIM_AMOUNT']][['CLAIM_AMOUNT']]\n",
    "Agents_Performing_poor\n"
   ]
  },
  {
   "cell_type": "code",
   "execution_count": 28,
   "id": "c007eb59",
   "metadata": {},
   "outputs": [],
   "source": [
    "#Task 12 : Business wants to find all Suspicious Employees (Agents).\n",
    "#          IF TOTAL CLAIM AMOUNT which meet below criteria is >= 15000 THEN AGENT is classified\n",
    "#          as Suspicious ELSE Not\n",
    "#          CLAIM_STATUS = Approved AND CUSTOMER_RISK_SEGMENTATION = High\n",
    "#          AND INCIDENT_SEVERITY = “Major Loss”\n",
    "#          If Suspicious, then 1 ELSE 0. Find mean of this column."
   ]
  },
  {
   "cell_type": "code",
   "execution_count": 29,
   "id": "e4fb44c1",
   "metadata": {},
   "outputs": [
    {
     "data": {
      "text/plain": [
       "Index(['AGENT00001', 'AGENT00003', 'AGENT00011', 'AGENT00021', 'AGENT00043',\n",
       "       'AGENT00052', 'AGENT00076', 'AGENT00080', 'AGENT00097', 'AGENT00112',\n",
       "       ...\n",
       "       'AGENT01130', 'AGENT01142', 'AGENT01168', 'AGENT01175', 'AGENT01177',\n",
       "       'AGENT01181', 'AGENT01182', 'AGENT01184', 'AGENT01188', 'AGENT01197'],\n",
       "      dtype='object', name='AGENT_ID', length=149)"
      ]
     },
     "execution_count": 29,
     "metadata": {},
     "output_type": "execute_result"
    }
   ],
   "source": [
    "criteria_is=dataframe[(dataframe['CLAIM_STATUS']=='A') & (dataframe['RISK_SEGMENTATION']=='H') & (dataframe['INCIDENT_SEVERITY']=='Major Loss')]\n",
    "suspicious = criteria_is.groupby('AGENT_ID').sum()\n",
    "suspicious_agents = suspicious[suspicious['CLAIM_AMOUNT']>=15000].index\n",
    "suspicious_agents"
   ]
  },
  {
   "cell_type": "code",
   "execution_count": 30,
   "id": "14ab2db6",
   "metadata": {},
   "outputs": [],
   "source": [
    "dataframe['SUSPICIOUS'] = 0\n",
    "suspicious_employees = dataframe['AGENT_ID'].isin(suspicious_agents)"
   ]
  },
  {
   "cell_type": "code",
   "execution_count": 31,
   "id": "3cbf6a95",
   "metadata": {},
   "outputs": [],
   "source": [
    "dataframe.loc[suspicious_employees,'SUSPICIOUS']=1"
   ]
  },
  {
   "cell_type": "code",
   "execution_count": 32,
   "id": "373866a2",
   "metadata": {},
   "outputs": [
    {
     "data": {
      "text/plain": [
       "0.141"
      ]
     },
     "execution_count": 32,
     "metadata": {},
     "output_type": "execute_result"
    }
   ],
   "source": [
    "dataframe['SUSPICIOUS'].mean()"
   ]
  },
  {
   "cell_type": "code",
   "execution_count": null,
   "id": "b7571145",
   "metadata": {},
   "outputs": [],
   "source": [
    "# The mean is 0.141"
   ]
  }
 ],
 "metadata": {
  "kernelspec": {
   "display_name": "Python 3 (ipykernel)",
   "language": "python",
   "name": "python3"
  },
  "language_info": {
   "codemirror_mode": {
    "name": "ipython",
    "version": 3
   },
   "file_extension": ".py",
   "mimetype": "text/x-python",
   "name": "python",
   "nbconvert_exporter": "python",
   "pygments_lexer": "ipython3",
   "version": "3.10.5"
  }
 },
 "nbformat": 4,
 "nbformat_minor": 5
}
